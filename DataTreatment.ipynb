{
 "cells": [
  {
   "cell_type": "code",
   "execution_count": 1,
   "id": "93cb89e8-9d71-4c6e-8e27-982db28c23c5",
   "metadata": {},
   "outputs": [
    {
     "name": "stdout",
     "output_type": "stream",
     "text": [
      "Collecting pandas\n",
      "  Downloading pandas-2.2.2-cp310-cp310-win_amd64.whl.metadata (19 kB)\n",
      "Collecting numpy>=1.22.4 (from pandas)\n",
      "  Downloading numpy-2.1.1-cp310-cp310-win_amd64.whl.metadata (59 kB)\n",
      "Requirement already satisfied: python-dateutil>=2.8.2 in c:\\users\\audea\\anaconda3\\envs\\data354\\lib\\site-packages (from pandas) (2.9.0.post0)\n",
      "Requirement already satisfied: pytz>=2020.1 in c:\\users\\audea\\anaconda3\\envs\\data354\\lib\\site-packages (from pandas) (2024.1)\n",
      "Collecting tzdata>=2022.7 (from pandas)\n",
      "  Using cached tzdata-2024.1-py2.py3-none-any.whl.metadata (1.4 kB)\n",
      "Requirement already satisfied: six>=1.5 in c:\\users\\audea\\anaconda3\\envs\\data354\\lib\\site-packages (from python-dateutil>=2.8.2->pandas) (1.16.0)\n",
      "Downloading pandas-2.2.2-cp310-cp310-win_amd64.whl (11.6 MB)\n",
      "   ---------------------------------------- 0.0/11.6 MB ? eta -:--:--\n",
      "   ---------------------------------------- 0.0/11.6 MB ? eta -:--:--\n",
      "   -- ------------------------------------- 0.8/11.6 MB 3.3 MB/s eta 0:00:04\n",
      "   -------- ------------------------------- 2.4/11.6 MB 5.4 MB/s eta 0:00:02\n",
      "   --------------------------- ------------ 8.1/11.6 MB 13.6 MB/s eta 0:00:01\n",
      "   ---------------------------------------- 11.6/11.6 MB 16.1 MB/s eta 0:00:00\n",
      "Downloading numpy-2.1.1-cp310-cp310-win_amd64.whl (12.9 MB)\n",
      "   ---------------------------------------- 0.0/12.9 MB ? eta -:--:--\n",
      "   ------- -------------------------------- 2.4/12.9 MB 13.4 MB/s eta 0:00:01\n",
      "   --------- ------------------------------ 3.1/12.9 MB 10.3 MB/s eta 0:00:01\n",
      "   --------- ------------------------------ 3.1/12.9 MB 10.3 MB/s eta 0:00:01\n",
      "   --------- ------------------------------ 3.1/12.9 MB 10.3 MB/s eta 0:00:01\n",
      "   --------- ------------------------------ 3.1/12.9 MB 10.3 MB/s eta 0:00:01\n",
      "   ---------- ----------------------------- 3.4/12.9 MB 3.0 MB/s eta 0:00:04\n",
      "   ---------- ----------------------------- 3.4/12.9 MB 3.0 MB/s eta 0:00:04\n",
      "   ---------- ----------------------------- 3.4/12.9 MB 3.0 MB/s eta 0:00:04\n",
      "   ----------- ---------------------------- 3.7/12.9 MB 1.8 MB/s eta 0:00:05\n",
      "   ----------- ---------------------------- 3.7/12.9 MB 1.8 MB/s eta 0:00:05\n",
      "   ----------- ---------------------------- 3.7/12.9 MB 1.8 MB/s eta 0:00:05\n",
      "   ------------ --------------------------- 3.9/12.9 MB 1.5 MB/s eta 0:00:07\n",
      "   ------------ --------------------------- 3.9/12.9 MB 1.5 MB/s eta 0:00:07\n",
      "   ------------ --------------------------- 3.9/12.9 MB 1.5 MB/s eta 0:00:07\n",
      "   ------------- -------------------------- 4.2/12.9 MB 1.3 MB/s eta 0:00:07\n",
      "   ------------- -------------------------- 4.2/12.9 MB 1.3 MB/s eta 0:00:07\n",
      "   ------------- -------------------------- 4.2/12.9 MB 1.3 MB/s eta 0:00:07\n",
      "   ------------- -------------------------- 4.2/12.9 MB 1.3 MB/s eta 0:00:07\n",
      "   ------------- -------------------------- 4.2/12.9 MB 1.3 MB/s eta 0:00:07\n",
      "   ------------- -------------------------- 4.5/12.9 MB 1.0 MB/s eta 0:00:09\n",
      "   ------------- -------------------------- 4.5/12.9 MB 1.0 MB/s eta 0:00:09\n",
      "   ------------- -------------------------- 4.5/12.9 MB 1.0 MB/s eta 0:00:09\n",
      "   ------------- -------------------------- 4.5/12.9 MB 1.0 MB/s eta 0:00:09\n",
      "   -------------- ------------------------- 4.7/12.9 MB 920.0 kB/s eta 0:00:09\n",
      "   -------------- ------------------------- 4.7/12.9 MB 920.0 kB/s eta 0:00:09\n",
      "   --------------- ------------------------ 5.0/12.9 MB 888.3 kB/s eta 0:00:09\n",
      "   --------------- ------------------------ 5.0/12.9 MB 888.3 kB/s eta 0:00:09\n",
      "   --------------- ------------------------ 5.0/12.9 MB 888.3 kB/s eta 0:00:09\n",
      "   --------------- ------------------------ 5.0/12.9 MB 888.3 kB/s eta 0:00:09\n",
      "   --------------- ------------------------ 5.0/12.9 MB 888.3 kB/s eta 0:00:09\n",
      "   ---------------- ----------------------- 5.2/12.9 MB 793.0 kB/s eta 0:00:10\n",
      "   ---------------- ----------------------- 5.2/12.9 MB 793.0 kB/s eta 0:00:10\n",
      "   ---------------- ----------------------- 5.2/12.9 MB 793.0 kB/s eta 0:00:10\n",
      "   ---------------- ----------------------- 5.2/12.9 MB 793.0 kB/s eta 0:00:10\n",
      "   ----------------- ---------------------- 5.5/12.9 MB 735.8 kB/s eta 0:00:11\n",
      "   ----------------- ---------------------- 5.5/12.9 MB 735.8 kB/s eta 0:00:11\n",
      "   ----------------- ---------------------- 5.8/12.9 MB 716.1 kB/s eta 0:00:10\n",
      "   ----------------- ---------------------- 5.8/12.9 MB 716.1 kB/s eta 0:00:10\n",
      "   ----------------- ---------------------- 5.8/12.9 MB 716.1 kB/s eta 0:00:10\n",
      "   ----------------- ---------------------- 5.8/12.9 MB 716.1 kB/s eta 0:00:10\n",
      "   ----------------- ---------------------- 5.8/12.9 MB 716.1 kB/s eta 0:00:10\n",
      "   ------------------ --------------------- 6.0/12.9 MB 669.9 kB/s eta 0:00:11\n",
      "   ------------------ --------------------- 6.0/12.9 MB 669.9 kB/s eta 0:00:11\n",
      "   ------------------ --------------------- 6.0/12.9 MB 669.9 kB/s eta 0:00:11\n",
      "   ------------------ --------------------- 6.0/12.9 MB 669.9 kB/s eta 0:00:11\n",
      "   ------------------- -------------------- 6.3/12.9 MB 636.7 kB/s eta 0:00:11\n",
      "   ------------------- -------------------- 6.3/12.9 MB 636.7 kB/s eta 0:00:11\n",
      "   -------------------- ------------------- 6.6/12.9 MB 639.1 kB/s eta 0:00:10\n",
      "   -------------------- ------------------- 6.6/12.9 MB 639.1 kB/s eta 0:00:10\n",
      "   -------------------- ------------------- 6.6/12.9 MB 639.1 kB/s eta 0:00:10\n",
      "   -------------------- ------------------- 6.6/12.9 MB 639.1 kB/s eta 0:00:10\n",
      "   --------------------- ------------------ 6.8/12.9 MB 607.9 kB/s eta 0:00:10\n",
      "   --------------------- ------------------ 6.8/12.9 MB 607.9 kB/s eta 0:00:10\n",
      "   --------------------- ------------------ 6.8/12.9 MB 607.9 kB/s eta 0:00:10\n",
      "   --------------------- ------------------ 6.8/12.9 MB 607.9 kB/s eta 0:00:10\n",
      "   --------------------- ------------------ 6.8/12.9 MB 607.9 kB/s eta 0:00:10\n",
      "   ---------------------- ----------------- 7.1/12.9 MB 583.9 kB/s eta 0:00:10\n",
      "   ---------------------- ----------------- 7.1/12.9 MB 583.9 kB/s eta 0:00:10\n",
      "   ---------------------- ----------------- 7.1/12.9 MB 583.9 kB/s eta 0:00:10\n",
      "   ---------------------- ----------------- 7.3/12.9 MB 566.2 kB/s eta 0:00:10\n",
      "   ---------------------- ----------------- 7.3/12.9 MB 566.2 kB/s eta 0:00:10\n",
      "   ---------------------- ----------------- 7.3/12.9 MB 566.2 kB/s eta 0:00:10\n",
      "   ---------------------- ----------------- 7.3/12.9 MB 566.2 kB/s eta 0:00:10\n",
      "   ----------------------- ---------------- 7.6/12.9 MB 555.3 kB/s eta 0:00:10\n",
      "   ----------------------- ---------------- 7.6/12.9 MB 555.3 kB/s eta 0:00:10\n",
      "   ----------------------- ---------------- 7.6/12.9 MB 555.3 kB/s eta 0:00:10\n",
      "   ----------------------- ---------------- 7.6/12.9 MB 555.3 kB/s eta 0:00:10\n",
      "   ----------------------- ---------------- 7.6/12.9 MB 555.3 kB/s eta 0:00:10\n",
      "   ------------------------ --------------- 7.9/12.9 MB 530.0 kB/s eta 0:00:10\n",
      "   ------------------------ --------------- 7.9/12.9 MB 530.0 kB/s eta 0:00:10\n",
      "   ------------------------ --------------- 7.9/12.9 MB 530.0 kB/s eta 0:00:10\n",
      "   ------------------------- -------------- 8.1/12.9 MB 525.4 kB/s eta 0:00:10\n",
      "   ------------------------- -------------- 8.1/12.9 MB 525.4 kB/s eta 0:00:10\n",
      "   ------------------------- -------------- 8.1/12.9 MB 525.4 kB/s eta 0:00:10\n",
      "   ------------------------- -------------- 8.1/12.9 MB 525.4 kB/s eta 0:00:10\n",
      "   ------------------------- -------------- 8.1/12.9 MB 525.4 kB/s eta 0:00:10\n",
      "   -------------------------- ------------- 8.4/12.9 MB 511.9 kB/s eta 0:00:09\n",
      "   -------------------------- ------------- 8.4/12.9 MB 511.9 kB/s eta 0:00:09\n",
      "   -------------------------- ------------- 8.4/12.9 MB 511.9 kB/s eta 0:00:09\n",
      "   -------------------------- ------------- 8.4/12.9 MB 511.9 kB/s eta 0:00:09\n",
      "   -------------------------- ------------- 8.7/12.9 MB 502.2 kB/s eta 0:00:09\n",
      "   -------------------------- ------------- 8.7/12.9 MB 502.2 kB/s eta 0:00:09\n",
      "   -------------------------- ------------- 8.7/12.9 MB 502.2 kB/s eta 0:00:09\n",
      "   --------------------------- ------------ 8.9/12.9 MB 494.3 kB/s eta 0:00:08\n",
      "   --------------------------- ------------ 8.9/12.9 MB 494.3 kB/s eta 0:00:08\n",
      "   --------------------------- ------------ 8.9/12.9 MB 494.3 kB/s eta 0:00:08\n",
      "   --------------------------- ------------ 8.9/12.9 MB 494.3 kB/s eta 0:00:08\n",
      "   ---------------------------- ----------- 9.2/12.9 MB 486.3 kB/s eta 0:00:08\n",
      "   ---------------------------- ----------- 9.2/12.9 MB 486.3 kB/s eta 0:00:08\n",
      "   ---------------------------- ----------- 9.2/12.9 MB 486.3 kB/s eta 0:00:08\n",
      "   ---------------------------- ----------- 9.2/12.9 MB 486.3 kB/s eta 0:00:08\n",
      "   ----------------------------- ---------- 9.4/12.9 MB 479.0 kB/s eta 0:00:08\n",
      "   ----------------------------- ---------- 9.4/12.9 MB 479.0 kB/s eta 0:00:08\n",
      "   ----------------------------- ---------- 9.4/12.9 MB 479.0 kB/s eta 0:00:08\n",
      "   ----------------------------- ---------- 9.4/12.9 MB 479.0 kB/s eta 0:00:08\n",
      "   ----------------------------- ---------- 9.4/12.9 MB 479.0 kB/s eta 0:00:08\n",
      "   ------------------------------ --------- 9.7/12.9 MB 470.0 kB/s eta 0:00:07\n",
      "   ------------------------------ --------- 10.0/12.9 MB 474.6 kB/s eta 0:00:07\n",
      "   ------------------------------ --------- 10.0/12.9 MB 474.6 kB/s eta 0:00:07\n",
      "   ------------------------------ --------- 10.0/12.9 MB 474.6 kB/s eta 0:00:07\n",
      "   ------------------------------ --------- 10.0/12.9 MB 474.6 kB/s eta 0:00:07\n",
      "   ------------------------------ --------- 10.0/12.9 MB 474.6 kB/s eta 0:00:07\n",
      "   ------------------------------- -------- 10.2/12.9 MB 465.4 kB/s eta 0:00:06\n",
      "   ------------------------------- -------- 10.2/12.9 MB 465.4 kB/s eta 0:00:06\n",
      "   ------------------------------- -------- 10.2/12.9 MB 465.4 kB/s eta 0:00:06\n",
      "   -------------------------------- ------- 10.5/12.9 MB 466.0 kB/s eta 0:00:06\n",
      "   -------------------------------- ------- 10.5/12.9 MB 466.0 kB/s eta 0:00:06\n",
      "   --------------------------------- ------ 10.7/12.9 MB 467.7 kB/s eta 0:00:05\n",
      "   --------------------------------- ------ 10.7/12.9 MB 467.7 kB/s eta 0:00:05\n",
      "   --------------------------------- ------ 10.7/12.9 MB 467.7 kB/s eta 0:00:05\n",
      "   --------------------------------- ------ 10.7/12.9 MB 467.7 kB/s eta 0:00:05\n",
      "   ---------------------------------- ----- 11.0/12.9 MB 462.0 kB/s eta 0:00:05\n",
      "   ---------------------------------- ----- 11.0/12.9 MB 462.0 kB/s eta 0:00:05\n",
      "   ---------------------------------- ----- 11.0/12.9 MB 462.0 kB/s eta 0:00:05\n",
      "   ----------------------------------- ---- 11.3/12.9 MB 460.6 kB/s eta 0:00:04\n",
      "   ----------------------------------- ---- 11.3/12.9 MB 460.6 kB/s eta 0:00:04\n",
      "   ----------------------------------- ---- 11.5/12.9 MB 462.2 kB/s eta 0:00:03\n",
      "   ----------------------------------- ---- 11.5/12.9 MB 462.2 kB/s eta 0:00:03\n",
      "   ----------------------------------- ---- 11.5/12.9 MB 462.2 kB/s eta 0:00:03\n",
      "   ----------------------------------- ---- 11.5/12.9 MB 462.2 kB/s eta 0:00:03\n",
      "   ------------------------------------ --- 11.8/12.9 MB 458.5 kB/s eta 0:00:03\n",
      "   ------------------------------------ --- 11.8/12.9 MB 458.5 kB/s eta 0:00:03\n",
      "   ------------------------------------ --- 11.8/12.9 MB 458.5 kB/s eta 0:00:03\n",
      "   ------------------------------------ --- 11.8/12.9 MB 458.5 kB/s eta 0:00:03\n",
      "   ------------------------------------ --- 11.8/12.9 MB 458.5 kB/s eta 0:00:03\n",
      "   ------------------------------------- -- 12.1/12.9 MB 449.9 kB/s eta 0:00:02\n",
      "   ------------------------------------- -- 12.1/12.9 MB 449.9 kB/s eta 0:00:02\n",
      "   -------------------------------------- - 12.3/12.9 MB 451.6 kB/s eta 0:00:02\n",
      "   -------------------------------------- - 12.3/12.9 MB 451.6 kB/s eta 0:00:02\n",
      "   ---------------------------------------  12.6/12.9 MB 455.5 kB/s eta 0:00:01\n",
      "   ---------------------------------------  12.8/12.9 MB 460.7 kB/s eta 0:00:01\n",
      "   ---------------------------------------- 12.9/12.9 MB 460.7 kB/s eta 0:00:00\n",
      "Using cached tzdata-2024.1-py2.py3-none-any.whl (345 kB)\n",
      "Installing collected packages: tzdata, numpy, pandas\n",
      "Successfully installed numpy-2.1.1 pandas-2.2.2 tzdata-2024.1\n",
      "Note: you may need to restart the kernel to use updated packages.\n"
     ]
    }
   ],
   "source": [
    "pip install pandas"
   ]
  },
  {
   "cell_type": "code",
   "execution_count": 2,
   "id": "6fdb44ae-d083-4801-b449-0868c5af09f3",
   "metadata": {},
   "outputs": [
    {
     "name": "stdout",
     "output_type": "stream",
     "text": [
      "Collecting pymongo\n",
      "  Downloading pymongo-4.8.0-cp310-cp310-win_amd64.whl.metadata (22 kB)\n",
      "Collecting dnspython<3.0.0,>=1.16.0 (from pymongo)\n",
      "  Downloading dnspython-2.6.1-py3-none-any.whl.metadata (5.8 kB)\n",
      "Downloading pymongo-4.8.0-cp310-cp310-win_amd64.whl (582 kB)\n",
      "   ---------------------------------------- 0.0/582.0 kB ? eta -:--:--\n",
      "   ---------------------------------------- 0.0/582.0 kB ? eta -:--:--\n",
      "   ---------------------------------------- 582.0/582.0 kB 2.3 MB/s eta 0:00:00\n",
      "Downloading dnspython-2.6.1-py3-none-any.whl (307 kB)\n",
      "Installing collected packages: dnspython, pymongo\n",
      "Successfully installed dnspython-2.6.1 pymongo-4.8.0\n",
      "Note: you may need to restart the kernel to use updated packages.\n"
     ]
    }
   ],
   "source": [
    "pip install pymongo"
   ]
  },
  {
   "cell_type": "code",
   "execution_count": 3,
   "id": "36f9f6a6-247a-4de5-9855-458248a564d9",
   "metadata": {},
   "outputs": [],
   "source": [
    "import pandas as pd\n",
    "import requests\n",
    "from pymongo import MongoClient\n",
    "from datetime import datetime\n"
   ]
  },
  {
   "cell_type": "code",
   "execution_count": 6,
   "id": "f72b61ed-3da5-43e6-8968-93189cfc5aca",
   "metadata": {},
   "outputs": [],
   "source": [
    "# URL des données\n",
    "url_1 = 'https://airqino-api.magentalab.it/v3/getStationHourlyAvg/283181971'  # Remplacez par le lien réel\n",
    "url_2 = 'https://airqino-api.magentalab.it/v3/getStationHourlyAvg/283164601'  # Remplacez par le lien réel\n"
   ]
  },
  {
   "cell_type": "code",
   "execution_count": 7,
   "id": "5514abeb-0bbf-46c3-9f07-c53042aa30e4",
   "metadata": {},
   "outputs": [],
   "source": [
    "# Récupérer les données depuis le lien\n",
    "response_1 = requests.get(url_1)\n",
    "data_1 = response.json()\n",
    "response_2 = requests.get(url_2)\n",
    "data_2 = response.json()"
   ]
  },
  {
   "cell_type": "code",
   "execution_count": 8,
   "id": "41459a4f-d91b-4e1c-8f69-963711d3de28",
   "metadata": {},
   "outputs": [],
   "source": [
    "# Convertir la liste de données en DataFrame\n",
    "df_1 = pd.DataFrame(data_1[\"data\"])\n",
    "df_2 = pd.DataFrame(data_2[\"data\"])"
   ]
  },
  {
   "cell_type": "code",
   "execution_count": 9,
   "id": "fac85fbb-14ac-4fac-a3a9-2f5d164b1988",
   "metadata": {},
   "outputs": [],
   "source": [
    "df_1['timestamp'] = pd.to_datetime(df_1['timestamp'])\n",
    "df_2['timestamp'] = pd.to_datetime(df_2['timestamp'])"
   ]
  },
  {
   "cell_type": "code",
   "execution_count": 12,
   "id": "d13a84dd-d41a-4a1b-8aac-c06cd3087087",
   "metadata": {},
   "outputs": [],
   "source": [
    "df_1['date_1'] = df_1['timestamp'].dt.date\n",
    "df_2['date_2'] = df_2['timestamp'].dt.date"
   ]
  },
  {
   "cell_type": "code",
   "execution_count": 15,
   "id": "3dcde961-5164-4d9b-a3e5-bd3de916d1dc",
   "metadata": {},
   "outputs": [],
   "source": [
    "daily_means_1 = df_1.groupby('date_1').agg({'CO': 'mean', 'PM2.5': 'mean'}).reset_index()\n",
    "daily_means_2 = df_2.groupby('date_2').agg({'CO': 'mean', 'PM2.5': 'mean'}).reset_index()"
   ]
  },
  {
   "cell_type": "code",
   "execution_count": 21,
   "id": "2cbeff40-1d36-46c9-ab7b-49ad46507713",
   "metadata": {},
   "outputs": [],
   "source": [
    "daily_means_1['date_1'] = pd.to_datetime(daily_means_1['date_1'])\n",
    "daily_means_2['date_2'] = pd.to_datetime(daily_means_2['date_2'])\n"
   ]
  },
  {
   "cell_type": "code",
   "execution_count": 22,
   "id": "de01ada8-3444-4657-9a7f-76174317b482",
   "metadata": {},
   "outputs": [
    {
     "name": "stdout",
     "output_type": "stream",
     "text": [
      "        date_1        CO      PM2.5\n",
      "0   2023-09-10  0.031795  12.780000\n",
      "1   2023-09-11  0.034917  11.078584\n",
      "2   2023-09-12  0.227283  12.922088\n",
      "3   2023-09-13  0.209933  14.277363\n",
      "4   2023-09-14  0.150275  14.533692\n",
      "..         ...       ...        ...\n",
      "343 2024-09-05  0.139701  13.180421\n",
      "344 2024-09-06  0.118769  14.648611\n",
      "345 2024-09-07  0.107480  14.217473\n",
      "346 2024-09-08  0.128420  12.615905\n",
      "347 2024-09-09  0.198864  15.024578\n",
      "\n",
      "[348 rows x 3 columns]\n",
      "        date_2        CO      PM2.5\n",
      "0   2023-09-10  0.031795  12.780000\n",
      "1   2023-09-11  0.034917  11.078584\n",
      "2   2023-09-12  0.227283  12.922088\n",
      "3   2023-09-13  0.209933  14.277363\n",
      "4   2023-09-14  0.150275  14.533692\n",
      "..         ...       ...        ...\n",
      "343 2024-09-05  0.139701  13.180421\n",
      "344 2024-09-06  0.118769  14.648611\n",
      "345 2024-09-07  0.107480  14.217473\n",
      "346 2024-09-08  0.128420  12.615905\n",
      "347 2024-09-09  0.198864  15.024578\n",
      "\n",
      "[348 rows x 3 columns]\n"
     ]
    }
   ],
   "source": [
    "# Afficher les résultats\n",
    "print(daily_means_1)\n",
    "print(daily_means_2)"
   ]
  },
  {
   "cell_type": "code",
   "execution_count": 26,
   "id": "b79c67b4-ac84-4d14-94cc-5a23e51366b4",
   "metadata": {},
   "outputs": [],
   "source": [
    "# Connexion à MongoDB\n",
    "client = MongoClient('mongodb://localhost:27017/')  # Remplacez par l'URI de votre MongoDB\n",
    "db_1 = client['air_quality_db']\n",
    "collection_1 = db_1['daily_averages_1']\n",
    "db_2 = client['air_quality_db']\n",
    "collection_2 = db_2['daily_averages_2']"
   ]
  },
  {
   "cell_type": "code",
   "execution_count": 29,
   "id": "cfad2cd1-7f71-4267-8e6a-8387e581634f",
   "metadata": {},
   "outputs": [
    {
     "data": {
      "text/plain": [
       "InsertManyResult([ObjectId('66def9bcee730d8dd740e452'), ObjectId('66def9bcee730d8dd740e453'), ObjectId('66def9bcee730d8dd740e454'), ObjectId('66def9bcee730d8dd740e455'), ObjectId('66def9bcee730d8dd740e456'), ObjectId('66def9bcee730d8dd740e457'), ObjectId('66def9bcee730d8dd740e458'), ObjectId('66def9bcee730d8dd740e459'), ObjectId('66def9bcee730d8dd740e45a'), ObjectId('66def9bcee730d8dd740e45b'), ObjectId('66def9bcee730d8dd740e45c'), ObjectId('66def9bcee730d8dd740e45d'), ObjectId('66def9bcee730d8dd740e45e'), ObjectId('66def9bcee730d8dd740e45f'), ObjectId('66def9bcee730d8dd740e460'), ObjectId('66def9bcee730d8dd740e461'), ObjectId('66def9bcee730d8dd740e462'), ObjectId('66def9bcee730d8dd740e463'), ObjectId('66def9bcee730d8dd740e464'), ObjectId('66def9bcee730d8dd740e465'), ObjectId('66def9bcee730d8dd740e466'), ObjectId('66def9bcee730d8dd740e467'), ObjectId('66def9bcee730d8dd740e468'), ObjectId('66def9bcee730d8dd740e469'), ObjectId('66def9bcee730d8dd740e46a'), ObjectId('66def9bcee730d8dd740e46b'), ObjectId('66def9bcee730d8dd740e46c'), ObjectId('66def9bcee730d8dd740e46d'), ObjectId('66def9bcee730d8dd740e46e'), ObjectId('66def9bcee730d8dd740e46f'), ObjectId('66def9bcee730d8dd740e470'), ObjectId('66def9bcee730d8dd740e471'), ObjectId('66def9bcee730d8dd740e472'), ObjectId('66def9bcee730d8dd740e473'), ObjectId('66def9bcee730d8dd740e474'), ObjectId('66def9bcee730d8dd740e475'), ObjectId('66def9bcee730d8dd740e476'), ObjectId('66def9bcee730d8dd740e477'), ObjectId('66def9bcee730d8dd740e478'), ObjectId('66def9bcee730d8dd740e479'), ObjectId('66def9bcee730d8dd740e47a'), ObjectId('66def9bcee730d8dd740e47b'), ObjectId('66def9bcee730d8dd740e47c'), ObjectId('66def9bcee730d8dd740e47d'), ObjectId('66def9bcee730d8dd740e47e'), ObjectId('66def9bcee730d8dd740e47f'), ObjectId('66def9bcee730d8dd740e480'), ObjectId('66def9bcee730d8dd740e481'), ObjectId('66def9bcee730d8dd740e482'), ObjectId('66def9bcee730d8dd740e483'), ObjectId('66def9bcee730d8dd740e484'), ObjectId('66def9bcee730d8dd740e485'), ObjectId('66def9bcee730d8dd740e486'), ObjectId('66def9bcee730d8dd740e487'), ObjectId('66def9bcee730d8dd740e488'), ObjectId('66def9bcee730d8dd740e489'), ObjectId('66def9bcee730d8dd740e48a'), ObjectId('66def9bcee730d8dd740e48b'), ObjectId('66def9bcee730d8dd740e48c'), ObjectId('66def9bcee730d8dd740e48d'), ObjectId('66def9bcee730d8dd740e48e'), ObjectId('66def9bcee730d8dd740e48f'), ObjectId('66def9bcee730d8dd740e490'), ObjectId('66def9bcee730d8dd740e491'), ObjectId('66def9bcee730d8dd740e492'), ObjectId('66def9bcee730d8dd740e493'), ObjectId('66def9bcee730d8dd740e494'), ObjectId('66def9bcee730d8dd740e495'), ObjectId('66def9bcee730d8dd740e496'), ObjectId('66def9bcee730d8dd740e497'), ObjectId('66def9bcee730d8dd740e498'), ObjectId('66def9bcee730d8dd740e499'), ObjectId('66def9bcee730d8dd740e49a'), ObjectId('66def9bcee730d8dd740e49b'), ObjectId('66def9bcee730d8dd740e49c'), ObjectId('66def9bcee730d8dd740e49d'), ObjectId('66def9bcee730d8dd740e49e'), ObjectId('66def9bcee730d8dd740e49f'), ObjectId('66def9bcee730d8dd740e4a0'), ObjectId('66def9bcee730d8dd740e4a1'), ObjectId('66def9bcee730d8dd740e4a2'), ObjectId('66def9bcee730d8dd740e4a3'), ObjectId('66def9bcee730d8dd740e4a4'), ObjectId('66def9bcee730d8dd740e4a5'), ObjectId('66def9bcee730d8dd740e4a6'), ObjectId('66def9bcee730d8dd740e4a7'), ObjectId('66def9bcee730d8dd740e4a8'), ObjectId('66def9bcee730d8dd740e4a9'), ObjectId('66def9bcee730d8dd740e4aa'), ObjectId('66def9bcee730d8dd740e4ab'), ObjectId('66def9bcee730d8dd740e4ac'), ObjectId('66def9bcee730d8dd740e4ad'), ObjectId('66def9bcee730d8dd740e4ae'), ObjectId('66def9bcee730d8dd740e4af'), ObjectId('66def9bcee730d8dd740e4b0'), ObjectId('66def9bcee730d8dd740e4b1'), ObjectId('66def9bcee730d8dd740e4b2'), ObjectId('66def9bcee730d8dd740e4b3'), ObjectId('66def9bcee730d8dd740e4b4'), ObjectId('66def9bcee730d8dd740e4b5'), ObjectId('66def9bcee730d8dd740e4b6'), ObjectId('66def9bcee730d8dd740e4b7'), ObjectId('66def9bcee730d8dd740e4b8'), ObjectId('66def9bcee730d8dd740e4b9'), ObjectId('66def9bcee730d8dd740e4ba'), ObjectId('66def9bcee730d8dd740e4bb'), ObjectId('66def9bcee730d8dd740e4bc'), ObjectId('66def9bcee730d8dd740e4bd'), ObjectId('66def9bcee730d8dd740e4be'), ObjectId('66def9bcee730d8dd740e4bf'), ObjectId('66def9bcee730d8dd740e4c0'), ObjectId('66def9bcee730d8dd740e4c1'), ObjectId('66def9bcee730d8dd740e4c2'), ObjectId('66def9bcee730d8dd740e4c3'), ObjectId('66def9bcee730d8dd740e4c4'), ObjectId('66def9bcee730d8dd740e4c5'), ObjectId('66def9bcee730d8dd740e4c6'), ObjectId('66def9bcee730d8dd740e4c7'), ObjectId('66def9bcee730d8dd740e4c8'), ObjectId('66def9bcee730d8dd740e4c9'), ObjectId('66def9bcee730d8dd740e4ca'), ObjectId('66def9bcee730d8dd740e4cb'), ObjectId('66def9bcee730d8dd740e4cc'), ObjectId('66def9bcee730d8dd740e4cd'), ObjectId('66def9bcee730d8dd740e4ce'), ObjectId('66def9bcee730d8dd740e4cf'), ObjectId('66def9bcee730d8dd740e4d0'), ObjectId('66def9bcee730d8dd740e4d1'), ObjectId('66def9bcee730d8dd740e4d2'), ObjectId('66def9bcee730d8dd740e4d3'), ObjectId('66def9bcee730d8dd740e4d4'), ObjectId('66def9bcee730d8dd740e4d5'), ObjectId('66def9bcee730d8dd740e4d6'), ObjectId('66def9bcee730d8dd740e4d7'), ObjectId('66def9bcee730d8dd740e4d8'), ObjectId('66def9bcee730d8dd740e4d9'), ObjectId('66def9bcee730d8dd740e4da'), ObjectId('66def9bcee730d8dd740e4db'), ObjectId('66def9bcee730d8dd740e4dc'), ObjectId('66def9bcee730d8dd740e4dd'), ObjectId('66def9bcee730d8dd740e4de'), ObjectId('66def9bcee730d8dd740e4df'), ObjectId('66def9bcee730d8dd740e4e0'), ObjectId('66def9bcee730d8dd740e4e1'), ObjectId('66def9bcee730d8dd740e4e2'), ObjectId('66def9bcee730d8dd740e4e3'), ObjectId('66def9bcee730d8dd740e4e4'), ObjectId('66def9bcee730d8dd740e4e5'), ObjectId('66def9bcee730d8dd740e4e6'), ObjectId('66def9bcee730d8dd740e4e7'), ObjectId('66def9bcee730d8dd740e4e8'), ObjectId('66def9bcee730d8dd740e4e9'), ObjectId('66def9bcee730d8dd740e4ea'), ObjectId('66def9bcee730d8dd740e4eb'), ObjectId('66def9bcee730d8dd740e4ec'), ObjectId('66def9bcee730d8dd740e4ed'), ObjectId('66def9bcee730d8dd740e4ee'), ObjectId('66def9bcee730d8dd740e4ef'), ObjectId('66def9bcee730d8dd740e4f0'), ObjectId('66def9bcee730d8dd740e4f1'), ObjectId('66def9bcee730d8dd740e4f2'), ObjectId('66def9bcee730d8dd740e4f3'), ObjectId('66def9bcee730d8dd740e4f4'), ObjectId('66def9bcee730d8dd740e4f5'), ObjectId('66def9bcee730d8dd740e4f6'), ObjectId('66def9bcee730d8dd740e4f7'), ObjectId('66def9bcee730d8dd740e4f8'), ObjectId('66def9bcee730d8dd740e4f9'), ObjectId('66def9bcee730d8dd740e4fa'), ObjectId('66def9bcee730d8dd740e4fb'), ObjectId('66def9bcee730d8dd740e4fc'), ObjectId('66def9bcee730d8dd740e4fd'), ObjectId('66def9bcee730d8dd740e4fe'), ObjectId('66def9bcee730d8dd740e4ff'), ObjectId('66def9bcee730d8dd740e500'), ObjectId('66def9bcee730d8dd740e501'), ObjectId('66def9bcee730d8dd740e502'), ObjectId('66def9bcee730d8dd740e503'), ObjectId('66def9bcee730d8dd740e504'), ObjectId('66def9bcee730d8dd740e505'), ObjectId('66def9bcee730d8dd740e506'), ObjectId('66def9bcee730d8dd740e507'), ObjectId('66def9bcee730d8dd740e508'), ObjectId('66def9bcee730d8dd740e509'), ObjectId('66def9bcee730d8dd740e50a'), ObjectId('66def9bcee730d8dd740e50b'), ObjectId('66def9bcee730d8dd740e50c'), ObjectId('66def9bcee730d8dd740e50d'), ObjectId('66def9bcee730d8dd740e50e'), ObjectId('66def9bcee730d8dd740e50f'), ObjectId('66def9bcee730d8dd740e510'), ObjectId('66def9bcee730d8dd740e511'), ObjectId('66def9bcee730d8dd740e512'), ObjectId('66def9bcee730d8dd740e513'), ObjectId('66def9bcee730d8dd740e514'), ObjectId('66def9bcee730d8dd740e515'), ObjectId('66def9bcee730d8dd740e516'), ObjectId('66def9bcee730d8dd740e517'), ObjectId('66def9bcee730d8dd740e518'), ObjectId('66def9bcee730d8dd740e519'), ObjectId('66def9bcee730d8dd740e51a'), ObjectId('66def9bcee730d8dd740e51b'), ObjectId('66def9bcee730d8dd740e51c'), ObjectId('66def9bcee730d8dd740e51d'), ObjectId('66def9bcee730d8dd740e51e'), ObjectId('66def9bcee730d8dd740e51f'), ObjectId('66def9bcee730d8dd740e520'), ObjectId('66def9bcee730d8dd740e521'), ObjectId('66def9bcee730d8dd740e522'), ObjectId('66def9bcee730d8dd740e523'), ObjectId('66def9bcee730d8dd740e524'), ObjectId('66def9bcee730d8dd740e525'), ObjectId('66def9bcee730d8dd740e526'), ObjectId('66def9bcee730d8dd740e527'), ObjectId('66def9bcee730d8dd740e528'), ObjectId('66def9bcee730d8dd740e529'), ObjectId('66def9bcee730d8dd740e52a'), ObjectId('66def9bcee730d8dd740e52b'), ObjectId('66def9bcee730d8dd740e52c'), ObjectId('66def9bcee730d8dd740e52d'), ObjectId('66def9bcee730d8dd740e52e'), ObjectId('66def9bcee730d8dd740e52f'), ObjectId('66def9bcee730d8dd740e530'), ObjectId('66def9bcee730d8dd740e531'), ObjectId('66def9bcee730d8dd740e532'), ObjectId('66def9bcee730d8dd740e533'), ObjectId('66def9bcee730d8dd740e534'), ObjectId('66def9bcee730d8dd740e535'), ObjectId('66def9bcee730d8dd740e536'), ObjectId('66def9bcee730d8dd740e537'), ObjectId('66def9bcee730d8dd740e538'), ObjectId('66def9bcee730d8dd740e539'), ObjectId('66def9bcee730d8dd740e53a'), ObjectId('66def9bcee730d8dd740e53b'), ObjectId('66def9bcee730d8dd740e53c'), ObjectId('66def9bcee730d8dd740e53d'), ObjectId('66def9bcee730d8dd740e53e'), ObjectId('66def9bcee730d8dd740e53f'), ObjectId('66def9bcee730d8dd740e540'), ObjectId('66def9bcee730d8dd740e541'), ObjectId('66def9bcee730d8dd740e542'), ObjectId('66def9bcee730d8dd740e543'), ObjectId('66def9bcee730d8dd740e544'), ObjectId('66def9bcee730d8dd740e545'), ObjectId('66def9bcee730d8dd740e546'), ObjectId('66def9bcee730d8dd740e547'), ObjectId('66def9bcee730d8dd740e548'), ObjectId('66def9bcee730d8dd740e549'), ObjectId('66def9bcee730d8dd740e54a'), ObjectId('66def9bcee730d8dd740e54b'), ObjectId('66def9bcee730d8dd740e54c'), ObjectId('66def9bcee730d8dd740e54d'), ObjectId('66def9bcee730d8dd740e54e'), ObjectId('66def9bcee730d8dd740e54f'), ObjectId('66def9bcee730d8dd740e550'), ObjectId('66def9bcee730d8dd740e551'), ObjectId('66def9bcee730d8dd740e552'), ObjectId('66def9bcee730d8dd740e553'), ObjectId('66def9bcee730d8dd740e554'), ObjectId('66def9bcee730d8dd740e555'), ObjectId('66def9bcee730d8dd740e556'), ObjectId('66def9bcee730d8dd740e557'), ObjectId('66def9bcee730d8dd740e558'), ObjectId('66def9bcee730d8dd740e559'), ObjectId('66def9bcee730d8dd740e55a'), ObjectId('66def9bcee730d8dd740e55b'), ObjectId('66def9bcee730d8dd740e55c'), ObjectId('66def9bcee730d8dd740e55d'), ObjectId('66def9bcee730d8dd740e55e'), ObjectId('66def9bcee730d8dd740e55f'), ObjectId('66def9bcee730d8dd740e560'), ObjectId('66def9bcee730d8dd740e561'), ObjectId('66def9bcee730d8dd740e562'), ObjectId('66def9bcee730d8dd740e563'), ObjectId('66def9bcee730d8dd740e564'), ObjectId('66def9bcee730d8dd740e565'), ObjectId('66def9bcee730d8dd740e566'), ObjectId('66def9bcee730d8dd740e567'), ObjectId('66def9bcee730d8dd740e568'), ObjectId('66def9bcee730d8dd740e569'), ObjectId('66def9bcee730d8dd740e56a'), ObjectId('66def9bcee730d8dd740e56b'), ObjectId('66def9bcee730d8dd740e56c'), ObjectId('66def9bcee730d8dd740e56d'), ObjectId('66def9bcee730d8dd740e56e'), ObjectId('66def9bcee730d8dd740e56f'), ObjectId('66def9bcee730d8dd740e570'), ObjectId('66def9bcee730d8dd740e571'), ObjectId('66def9bcee730d8dd740e572'), ObjectId('66def9bcee730d8dd740e573'), ObjectId('66def9bcee730d8dd740e574'), ObjectId('66def9bcee730d8dd740e575'), ObjectId('66def9bcee730d8dd740e576'), ObjectId('66def9bcee730d8dd740e577'), ObjectId('66def9bcee730d8dd740e578'), ObjectId('66def9bcee730d8dd740e579'), ObjectId('66def9bcee730d8dd740e57a'), ObjectId('66def9bcee730d8dd740e57b'), ObjectId('66def9bcee730d8dd740e57c'), ObjectId('66def9bcee730d8dd740e57d'), ObjectId('66def9bcee730d8dd740e57e'), ObjectId('66def9bcee730d8dd740e57f'), ObjectId('66def9bcee730d8dd740e580'), ObjectId('66def9bcee730d8dd740e581'), ObjectId('66def9bcee730d8dd740e582'), ObjectId('66def9bcee730d8dd740e583'), ObjectId('66def9bcee730d8dd740e584'), ObjectId('66def9bcee730d8dd740e585'), ObjectId('66def9bcee730d8dd740e586'), ObjectId('66def9bcee730d8dd740e587'), ObjectId('66def9bcee730d8dd740e588'), ObjectId('66def9bcee730d8dd740e589'), ObjectId('66def9bcee730d8dd740e58a'), ObjectId('66def9bcee730d8dd740e58b'), ObjectId('66def9bcee730d8dd740e58c'), ObjectId('66def9bcee730d8dd740e58d'), ObjectId('66def9bcee730d8dd740e58e'), ObjectId('66def9bcee730d8dd740e58f'), ObjectId('66def9bcee730d8dd740e590'), ObjectId('66def9bcee730d8dd740e591'), ObjectId('66def9bcee730d8dd740e592'), ObjectId('66def9bcee730d8dd740e593'), ObjectId('66def9bcee730d8dd740e594'), ObjectId('66def9bcee730d8dd740e595'), ObjectId('66def9bcee730d8dd740e596'), ObjectId('66def9bcee730d8dd740e597'), ObjectId('66def9bcee730d8dd740e598'), ObjectId('66def9bcee730d8dd740e599'), ObjectId('66def9bcee730d8dd740e59a'), ObjectId('66def9bcee730d8dd740e59b'), ObjectId('66def9bcee730d8dd740e59c'), ObjectId('66def9bcee730d8dd740e59d'), ObjectId('66def9bcee730d8dd740e59e'), ObjectId('66def9bcee730d8dd740e59f'), ObjectId('66def9bcee730d8dd740e5a0'), ObjectId('66def9bcee730d8dd740e5a1'), ObjectId('66def9bcee730d8dd740e5a2'), ObjectId('66def9bcee730d8dd740e5a3'), ObjectId('66def9bcee730d8dd740e5a4'), ObjectId('66def9bcee730d8dd740e5a5'), ObjectId('66def9bcee730d8dd740e5a6'), ObjectId('66def9bcee730d8dd740e5a7'), ObjectId('66def9bcee730d8dd740e5a8'), ObjectId('66def9bcee730d8dd740e5a9'), ObjectId('66def9bcee730d8dd740e5aa'), ObjectId('66def9bcee730d8dd740e5ab'), ObjectId('66def9bcee730d8dd740e5ac'), ObjectId('66def9bcee730d8dd740e5ad')], acknowledged=True)"
      ]
     },
     "execution_count": 29,
     "metadata": {},
     "output_type": "execute_result"
    }
   ],
   "source": [
    "# Convertir le DataFrame en dictionnaire et insérer les données dans MongoDB\n",
    "records_1 = daily_means_1.to_dict('records')\n",
    "collection_1.insert_many(records_1)"
   ]
  },
  {
   "cell_type": "code",
   "execution_count": 28,
   "id": "9eb5b286-6ed8-4d25-af43-87431b7c2dc8",
   "metadata": {},
   "outputs": [
    {
     "data": {
      "text/plain": [
       "InsertManyResult([ObjectId('66def9b7ee730d8dd740e2f6'), ObjectId('66def9b7ee730d8dd740e2f7'), ObjectId('66def9b7ee730d8dd740e2f8'), ObjectId('66def9b7ee730d8dd740e2f9'), ObjectId('66def9b7ee730d8dd740e2fa'), ObjectId('66def9b7ee730d8dd740e2fb'), ObjectId('66def9b7ee730d8dd740e2fc'), ObjectId('66def9b7ee730d8dd740e2fd'), ObjectId('66def9b7ee730d8dd740e2fe'), ObjectId('66def9b7ee730d8dd740e2ff'), ObjectId('66def9b7ee730d8dd740e300'), ObjectId('66def9b7ee730d8dd740e301'), ObjectId('66def9b7ee730d8dd740e302'), ObjectId('66def9b7ee730d8dd740e303'), ObjectId('66def9b7ee730d8dd740e304'), ObjectId('66def9b7ee730d8dd740e305'), ObjectId('66def9b7ee730d8dd740e306'), ObjectId('66def9b7ee730d8dd740e307'), ObjectId('66def9b7ee730d8dd740e308'), ObjectId('66def9b7ee730d8dd740e309'), ObjectId('66def9b7ee730d8dd740e30a'), ObjectId('66def9b7ee730d8dd740e30b'), ObjectId('66def9b7ee730d8dd740e30c'), ObjectId('66def9b7ee730d8dd740e30d'), ObjectId('66def9b7ee730d8dd740e30e'), ObjectId('66def9b7ee730d8dd740e30f'), ObjectId('66def9b7ee730d8dd740e310'), ObjectId('66def9b7ee730d8dd740e311'), ObjectId('66def9b7ee730d8dd740e312'), ObjectId('66def9b7ee730d8dd740e313'), ObjectId('66def9b7ee730d8dd740e314'), ObjectId('66def9b7ee730d8dd740e315'), ObjectId('66def9b7ee730d8dd740e316'), ObjectId('66def9b7ee730d8dd740e317'), ObjectId('66def9b7ee730d8dd740e318'), ObjectId('66def9b7ee730d8dd740e319'), ObjectId('66def9b7ee730d8dd740e31a'), ObjectId('66def9b7ee730d8dd740e31b'), ObjectId('66def9b7ee730d8dd740e31c'), ObjectId('66def9b7ee730d8dd740e31d'), ObjectId('66def9b7ee730d8dd740e31e'), ObjectId('66def9b7ee730d8dd740e31f'), ObjectId('66def9b7ee730d8dd740e320'), ObjectId('66def9b7ee730d8dd740e321'), ObjectId('66def9b7ee730d8dd740e322'), ObjectId('66def9b7ee730d8dd740e323'), ObjectId('66def9b7ee730d8dd740e324'), ObjectId('66def9b7ee730d8dd740e325'), ObjectId('66def9b7ee730d8dd740e326'), ObjectId('66def9b7ee730d8dd740e327'), ObjectId('66def9b7ee730d8dd740e328'), ObjectId('66def9b7ee730d8dd740e329'), ObjectId('66def9b7ee730d8dd740e32a'), ObjectId('66def9b7ee730d8dd740e32b'), ObjectId('66def9b7ee730d8dd740e32c'), ObjectId('66def9b7ee730d8dd740e32d'), ObjectId('66def9b7ee730d8dd740e32e'), ObjectId('66def9b7ee730d8dd740e32f'), ObjectId('66def9b7ee730d8dd740e330'), ObjectId('66def9b7ee730d8dd740e331'), ObjectId('66def9b7ee730d8dd740e332'), ObjectId('66def9b7ee730d8dd740e333'), ObjectId('66def9b7ee730d8dd740e334'), ObjectId('66def9b7ee730d8dd740e335'), ObjectId('66def9b7ee730d8dd740e336'), ObjectId('66def9b7ee730d8dd740e337'), ObjectId('66def9b7ee730d8dd740e338'), ObjectId('66def9b7ee730d8dd740e339'), ObjectId('66def9b7ee730d8dd740e33a'), ObjectId('66def9b7ee730d8dd740e33b'), ObjectId('66def9b7ee730d8dd740e33c'), ObjectId('66def9b7ee730d8dd740e33d'), ObjectId('66def9b7ee730d8dd740e33e'), ObjectId('66def9b7ee730d8dd740e33f'), ObjectId('66def9b7ee730d8dd740e340'), ObjectId('66def9b7ee730d8dd740e341'), ObjectId('66def9b7ee730d8dd740e342'), ObjectId('66def9b7ee730d8dd740e343'), ObjectId('66def9b7ee730d8dd740e344'), ObjectId('66def9b7ee730d8dd740e345'), ObjectId('66def9b7ee730d8dd740e346'), ObjectId('66def9b7ee730d8dd740e347'), ObjectId('66def9b7ee730d8dd740e348'), ObjectId('66def9b7ee730d8dd740e349'), ObjectId('66def9b7ee730d8dd740e34a'), ObjectId('66def9b7ee730d8dd740e34b'), ObjectId('66def9b7ee730d8dd740e34c'), ObjectId('66def9b7ee730d8dd740e34d'), ObjectId('66def9b7ee730d8dd740e34e'), ObjectId('66def9b7ee730d8dd740e34f'), ObjectId('66def9b7ee730d8dd740e350'), ObjectId('66def9b7ee730d8dd740e351'), ObjectId('66def9b7ee730d8dd740e352'), ObjectId('66def9b7ee730d8dd740e353'), ObjectId('66def9b7ee730d8dd740e354'), ObjectId('66def9b7ee730d8dd740e355'), ObjectId('66def9b7ee730d8dd740e356'), ObjectId('66def9b7ee730d8dd740e357'), ObjectId('66def9b7ee730d8dd740e358'), ObjectId('66def9b7ee730d8dd740e359'), ObjectId('66def9b7ee730d8dd740e35a'), ObjectId('66def9b7ee730d8dd740e35b'), ObjectId('66def9b7ee730d8dd740e35c'), ObjectId('66def9b7ee730d8dd740e35d'), ObjectId('66def9b7ee730d8dd740e35e'), ObjectId('66def9b7ee730d8dd740e35f'), ObjectId('66def9b7ee730d8dd740e360'), ObjectId('66def9b7ee730d8dd740e361'), ObjectId('66def9b7ee730d8dd740e362'), ObjectId('66def9b7ee730d8dd740e363'), ObjectId('66def9b7ee730d8dd740e364'), ObjectId('66def9b7ee730d8dd740e365'), ObjectId('66def9b7ee730d8dd740e366'), ObjectId('66def9b7ee730d8dd740e367'), ObjectId('66def9b7ee730d8dd740e368'), ObjectId('66def9b7ee730d8dd740e369'), ObjectId('66def9b7ee730d8dd740e36a'), ObjectId('66def9b7ee730d8dd740e36b'), ObjectId('66def9b7ee730d8dd740e36c'), ObjectId('66def9b7ee730d8dd740e36d'), ObjectId('66def9b7ee730d8dd740e36e'), ObjectId('66def9b7ee730d8dd740e36f'), ObjectId('66def9b7ee730d8dd740e370'), ObjectId('66def9b7ee730d8dd740e371'), ObjectId('66def9b7ee730d8dd740e372'), ObjectId('66def9b7ee730d8dd740e373'), ObjectId('66def9b7ee730d8dd740e374'), ObjectId('66def9b7ee730d8dd740e375'), ObjectId('66def9b7ee730d8dd740e376'), ObjectId('66def9b7ee730d8dd740e377'), ObjectId('66def9b7ee730d8dd740e378'), ObjectId('66def9b7ee730d8dd740e379'), ObjectId('66def9b7ee730d8dd740e37a'), ObjectId('66def9b7ee730d8dd740e37b'), ObjectId('66def9b7ee730d8dd740e37c'), ObjectId('66def9b7ee730d8dd740e37d'), ObjectId('66def9b7ee730d8dd740e37e'), ObjectId('66def9b7ee730d8dd740e37f'), ObjectId('66def9b7ee730d8dd740e380'), ObjectId('66def9b7ee730d8dd740e381'), ObjectId('66def9b7ee730d8dd740e382'), ObjectId('66def9b7ee730d8dd740e383'), ObjectId('66def9b7ee730d8dd740e384'), ObjectId('66def9b7ee730d8dd740e385'), ObjectId('66def9b7ee730d8dd740e386'), ObjectId('66def9b7ee730d8dd740e387'), ObjectId('66def9b7ee730d8dd740e388'), ObjectId('66def9b7ee730d8dd740e389'), ObjectId('66def9b7ee730d8dd740e38a'), ObjectId('66def9b7ee730d8dd740e38b'), ObjectId('66def9b7ee730d8dd740e38c'), ObjectId('66def9b7ee730d8dd740e38d'), ObjectId('66def9b7ee730d8dd740e38e'), ObjectId('66def9b7ee730d8dd740e38f'), ObjectId('66def9b7ee730d8dd740e390'), ObjectId('66def9b7ee730d8dd740e391'), ObjectId('66def9b7ee730d8dd740e392'), ObjectId('66def9b7ee730d8dd740e393'), ObjectId('66def9b7ee730d8dd740e394'), ObjectId('66def9b7ee730d8dd740e395'), ObjectId('66def9b7ee730d8dd740e396'), ObjectId('66def9b7ee730d8dd740e397'), ObjectId('66def9b7ee730d8dd740e398'), ObjectId('66def9b7ee730d8dd740e399'), ObjectId('66def9b7ee730d8dd740e39a'), ObjectId('66def9b7ee730d8dd740e39b'), ObjectId('66def9b7ee730d8dd740e39c'), ObjectId('66def9b7ee730d8dd740e39d'), ObjectId('66def9b7ee730d8dd740e39e'), ObjectId('66def9b7ee730d8dd740e39f'), ObjectId('66def9b7ee730d8dd740e3a0'), ObjectId('66def9b7ee730d8dd740e3a1'), ObjectId('66def9b7ee730d8dd740e3a2'), ObjectId('66def9b7ee730d8dd740e3a3'), ObjectId('66def9b7ee730d8dd740e3a4'), ObjectId('66def9b7ee730d8dd740e3a5'), ObjectId('66def9b7ee730d8dd740e3a6'), ObjectId('66def9b7ee730d8dd740e3a7'), ObjectId('66def9b7ee730d8dd740e3a8'), ObjectId('66def9b7ee730d8dd740e3a9'), ObjectId('66def9b7ee730d8dd740e3aa'), ObjectId('66def9b7ee730d8dd740e3ab'), ObjectId('66def9b7ee730d8dd740e3ac'), ObjectId('66def9b7ee730d8dd740e3ad'), ObjectId('66def9b7ee730d8dd740e3ae'), ObjectId('66def9b7ee730d8dd740e3af'), ObjectId('66def9b7ee730d8dd740e3b0'), ObjectId('66def9b7ee730d8dd740e3b1'), ObjectId('66def9b7ee730d8dd740e3b2'), ObjectId('66def9b7ee730d8dd740e3b3'), ObjectId('66def9b7ee730d8dd740e3b4'), ObjectId('66def9b7ee730d8dd740e3b5'), ObjectId('66def9b7ee730d8dd740e3b6'), ObjectId('66def9b7ee730d8dd740e3b7'), ObjectId('66def9b7ee730d8dd740e3b8'), ObjectId('66def9b7ee730d8dd740e3b9'), ObjectId('66def9b7ee730d8dd740e3ba'), ObjectId('66def9b7ee730d8dd740e3bb'), ObjectId('66def9b7ee730d8dd740e3bc'), ObjectId('66def9b7ee730d8dd740e3bd'), ObjectId('66def9b7ee730d8dd740e3be'), ObjectId('66def9b7ee730d8dd740e3bf'), ObjectId('66def9b7ee730d8dd740e3c0'), ObjectId('66def9b7ee730d8dd740e3c1'), ObjectId('66def9b7ee730d8dd740e3c2'), ObjectId('66def9b7ee730d8dd740e3c3'), ObjectId('66def9b7ee730d8dd740e3c4'), ObjectId('66def9b7ee730d8dd740e3c5'), ObjectId('66def9b7ee730d8dd740e3c6'), ObjectId('66def9b7ee730d8dd740e3c7'), ObjectId('66def9b7ee730d8dd740e3c8'), ObjectId('66def9b7ee730d8dd740e3c9'), ObjectId('66def9b7ee730d8dd740e3ca'), ObjectId('66def9b7ee730d8dd740e3cb'), ObjectId('66def9b7ee730d8dd740e3cc'), ObjectId('66def9b7ee730d8dd740e3cd'), ObjectId('66def9b7ee730d8dd740e3ce'), ObjectId('66def9b7ee730d8dd740e3cf'), ObjectId('66def9b7ee730d8dd740e3d0'), ObjectId('66def9b7ee730d8dd740e3d1'), ObjectId('66def9b7ee730d8dd740e3d2'), ObjectId('66def9b7ee730d8dd740e3d3'), ObjectId('66def9b7ee730d8dd740e3d4'), ObjectId('66def9b7ee730d8dd740e3d5'), ObjectId('66def9b7ee730d8dd740e3d6'), ObjectId('66def9b7ee730d8dd740e3d7'), ObjectId('66def9b7ee730d8dd740e3d8'), ObjectId('66def9b7ee730d8dd740e3d9'), ObjectId('66def9b7ee730d8dd740e3da'), ObjectId('66def9b7ee730d8dd740e3db'), ObjectId('66def9b7ee730d8dd740e3dc'), ObjectId('66def9b7ee730d8dd740e3dd'), ObjectId('66def9b7ee730d8dd740e3de'), ObjectId('66def9b7ee730d8dd740e3df'), ObjectId('66def9b7ee730d8dd740e3e0'), ObjectId('66def9b7ee730d8dd740e3e1'), ObjectId('66def9b7ee730d8dd740e3e2'), ObjectId('66def9b7ee730d8dd740e3e3'), ObjectId('66def9b7ee730d8dd740e3e4'), ObjectId('66def9b7ee730d8dd740e3e5'), ObjectId('66def9b7ee730d8dd740e3e6'), ObjectId('66def9b7ee730d8dd740e3e7'), ObjectId('66def9b7ee730d8dd740e3e8'), ObjectId('66def9b7ee730d8dd740e3e9'), ObjectId('66def9b7ee730d8dd740e3ea'), ObjectId('66def9b7ee730d8dd740e3eb'), ObjectId('66def9b7ee730d8dd740e3ec'), ObjectId('66def9b7ee730d8dd740e3ed'), ObjectId('66def9b7ee730d8dd740e3ee'), ObjectId('66def9b7ee730d8dd740e3ef'), ObjectId('66def9b7ee730d8dd740e3f0'), ObjectId('66def9b7ee730d8dd740e3f1'), ObjectId('66def9b7ee730d8dd740e3f2'), ObjectId('66def9b7ee730d8dd740e3f3'), ObjectId('66def9b7ee730d8dd740e3f4'), ObjectId('66def9b7ee730d8dd740e3f5'), ObjectId('66def9b7ee730d8dd740e3f6'), ObjectId('66def9b7ee730d8dd740e3f7'), ObjectId('66def9b7ee730d8dd740e3f8'), ObjectId('66def9b7ee730d8dd740e3f9'), ObjectId('66def9b7ee730d8dd740e3fa'), ObjectId('66def9b7ee730d8dd740e3fb'), ObjectId('66def9b7ee730d8dd740e3fc'), ObjectId('66def9b7ee730d8dd740e3fd'), ObjectId('66def9b7ee730d8dd740e3fe'), ObjectId('66def9b7ee730d8dd740e3ff'), ObjectId('66def9b7ee730d8dd740e400'), ObjectId('66def9b7ee730d8dd740e401'), ObjectId('66def9b7ee730d8dd740e402'), ObjectId('66def9b7ee730d8dd740e403'), ObjectId('66def9b7ee730d8dd740e404'), ObjectId('66def9b7ee730d8dd740e405'), ObjectId('66def9b7ee730d8dd740e406'), ObjectId('66def9b7ee730d8dd740e407'), ObjectId('66def9b7ee730d8dd740e408'), ObjectId('66def9b7ee730d8dd740e409'), ObjectId('66def9b7ee730d8dd740e40a'), ObjectId('66def9b7ee730d8dd740e40b'), ObjectId('66def9b7ee730d8dd740e40c'), ObjectId('66def9b7ee730d8dd740e40d'), ObjectId('66def9b7ee730d8dd740e40e'), ObjectId('66def9b7ee730d8dd740e40f'), ObjectId('66def9b7ee730d8dd740e410'), ObjectId('66def9b7ee730d8dd740e411'), ObjectId('66def9b7ee730d8dd740e412'), ObjectId('66def9b7ee730d8dd740e413'), ObjectId('66def9b7ee730d8dd740e414'), ObjectId('66def9b7ee730d8dd740e415'), ObjectId('66def9b7ee730d8dd740e416'), ObjectId('66def9b7ee730d8dd740e417'), ObjectId('66def9b7ee730d8dd740e418'), ObjectId('66def9b7ee730d8dd740e419'), ObjectId('66def9b7ee730d8dd740e41a'), ObjectId('66def9b7ee730d8dd740e41b'), ObjectId('66def9b7ee730d8dd740e41c'), ObjectId('66def9b7ee730d8dd740e41d'), ObjectId('66def9b7ee730d8dd740e41e'), ObjectId('66def9b7ee730d8dd740e41f'), ObjectId('66def9b7ee730d8dd740e420'), ObjectId('66def9b7ee730d8dd740e421'), ObjectId('66def9b7ee730d8dd740e422'), ObjectId('66def9b7ee730d8dd740e423'), ObjectId('66def9b7ee730d8dd740e424'), ObjectId('66def9b7ee730d8dd740e425'), ObjectId('66def9b7ee730d8dd740e426'), ObjectId('66def9b7ee730d8dd740e427'), ObjectId('66def9b7ee730d8dd740e428'), ObjectId('66def9b7ee730d8dd740e429'), ObjectId('66def9b7ee730d8dd740e42a'), ObjectId('66def9b7ee730d8dd740e42b'), ObjectId('66def9b7ee730d8dd740e42c'), ObjectId('66def9b7ee730d8dd740e42d'), ObjectId('66def9b7ee730d8dd740e42e'), ObjectId('66def9b7ee730d8dd740e42f'), ObjectId('66def9b7ee730d8dd740e430'), ObjectId('66def9b7ee730d8dd740e431'), ObjectId('66def9b7ee730d8dd740e432'), ObjectId('66def9b7ee730d8dd740e433'), ObjectId('66def9b7ee730d8dd740e434'), ObjectId('66def9b7ee730d8dd740e435'), ObjectId('66def9b7ee730d8dd740e436'), ObjectId('66def9b7ee730d8dd740e437'), ObjectId('66def9b7ee730d8dd740e438'), ObjectId('66def9b7ee730d8dd740e439'), ObjectId('66def9b7ee730d8dd740e43a'), ObjectId('66def9b7ee730d8dd740e43b'), ObjectId('66def9b7ee730d8dd740e43c'), ObjectId('66def9b7ee730d8dd740e43d'), ObjectId('66def9b7ee730d8dd740e43e'), ObjectId('66def9b7ee730d8dd740e43f'), ObjectId('66def9b7ee730d8dd740e440'), ObjectId('66def9b7ee730d8dd740e441'), ObjectId('66def9b7ee730d8dd740e442'), ObjectId('66def9b7ee730d8dd740e443'), ObjectId('66def9b7ee730d8dd740e444'), ObjectId('66def9b7ee730d8dd740e445'), ObjectId('66def9b7ee730d8dd740e446'), ObjectId('66def9b7ee730d8dd740e447'), ObjectId('66def9b7ee730d8dd740e448'), ObjectId('66def9b7ee730d8dd740e449'), ObjectId('66def9b7ee730d8dd740e44a'), ObjectId('66def9b7ee730d8dd740e44b'), ObjectId('66def9b7ee730d8dd740e44c'), ObjectId('66def9b7ee730d8dd740e44d'), ObjectId('66def9b7ee730d8dd740e44e'), ObjectId('66def9b7ee730d8dd740e44f'), ObjectId('66def9b7ee730d8dd740e450'), ObjectId('66def9b7ee730d8dd740e451')], acknowledged=True)"
      ]
     },
     "execution_count": 28,
     "metadata": {},
     "output_type": "execute_result"
    }
   ],
   "source": [
    "# Convertir le DataFrame en dictionnaire et insérer les données dans MongoDB\n",
    "records_2 = daily_means_2.to_dict('records')\n",
    "collection_2.insert_many(records_2)"
   ]
  },
  {
   "cell_type": "code",
   "execution_count": null,
   "id": "44bd0c83-bcad-4e0d-865b-d8a7ad5b9743",
   "metadata": {},
   "outputs": [],
   "source": []
  }
 ],
 "metadata": {
  "kernelspec": {
   "display_name": "Python 3 (ipykernel)",
   "language": "python",
   "name": "python3"
  },
  "language_info": {
   "codemirror_mode": {
    "name": "ipython",
    "version": 3
   },
   "file_extension": ".py",
   "mimetype": "text/x-python",
   "name": "python",
   "nbconvert_exporter": "python",
   "pygments_lexer": "ipython3",
   "version": "3.10.14"
  }
 },
 "nbformat": 4,
 "nbformat_minor": 5
}
