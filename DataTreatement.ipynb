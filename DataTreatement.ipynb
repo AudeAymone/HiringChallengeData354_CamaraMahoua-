{
 "cells": [
  {
   "cell_type": "code",
   "execution_count": 7,
   "id": "93cb89e8-9d71-4c6e-8e27-982db28c23c5",
   "metadata": {},
   "outputs": [
    {
     "name": "stdout",
     "output_type": "stream",
     "text": [
      "Requirement already satisfied: pandas in c:\\users\\audea\\anaconda3\\envs\\data354\\lib\\site-packages (2.2.2)\n",
      "Requirement already satisfied: numpy>=1.22.4 in c:\\users\\audea\\anaconda3\\envs\\data354\\lib\\site-packages (from pandas) (2.1.1)\n",
      "Requirement already satisfied: python-dateutil>=2.8.2 in c:\\users\\audea\\anaconda3\\envs\\data354\\lib\\site-packages (from pandas) (2.9.0.post0)\n",
      "Requirement already satisfied: pytz>=2020.1 in c:\\users\\audea\\anaconda3\\envs\\data354\\lib\\site-packages (from pandas) (2024.1)\n",
      "Requirement already satisfied: tzdata>=2022.7 in c:\\users\\audea\\anaconda3\\envs\\data354\\lib\\site-packages (from pandas) (2024.1)\n",
      "Requirement already satisfied: six>=1.5 in c:\\users\\audea\\anaconda3\\envs\\data354\\lib\\site-packages (from python-dateutil>=2.8.2->pandas) (1.16.0)\n",
      "Note: you may need to restart the kernel to use updated packages.\n"
     ]
    }
   ],
   "source": [
    "pip install pandas"
   ]
  },
  {
   "cell_type": "code",
   "execution_count": 8,
   "id": "6fdb44ae-d083-4801-b449-0868c5af09f3",
   "metadata": {},
   "outputs": [
    {
     "name": "stdout",
     "output_type": "stream",
     "text": [
      "Requirement already satisfied: pymongo in c:\\users\\audea\\anaconda3\\envs\\data354\\lib\\site-packages (4.8.0)\n",
      "Requirement already satisfied: dnspython<3.0.0,>=1.16.0 in c:\\users\\audea\\anaconda3\\envs\\data354\\lib\\site-packages (from pymongo) (2.6.1)\n",
      "Note: you may need to restart the kernel to use updated packages.\n"
     ]
    }
   ],
   "source": [
    "pip install pymongo"
   ]
  },
  {
   "cell_type": "code",
   "execution_count": 50,
   "id": "36f9f6a6-247a-4de5-9855-458248a564d9",
   "metadata": {},
   "outputs": [],
   "source": [
    "import pandas as pd\n",
    "import requests\n",
    "from pymongo import MongoClient\n",
    "from datetime import datetime\n"
   ]
  },
  {
   "cell_type": "code",
   "execution_count": 51,
   "id": "f72b61ed-3da5-43e6-8968-93189cfc5aca",
   "metadata": {},
   "outputs": [],
   "source": [
    "# URL des données\n",
    "url_1 = 'https://airqino-api.magentalab.it/v3/getStationHourlyAvg/283181971'  # Remplacez par le lien réel\n",
    "url_2 = 'https://airqino-api.magentalab.it/v3/getStationHourlyAvg/283164601'  # Remplacez par le lien réel\n"
   ]
  },
  {
   "cell_type": "code",
   "execution_count": 52,
   "id": "5514abeb-0bbf-46c3-9f07-c53042aa30e4",
   "metadata": {},
   "outputs": [],
   "source": [
    "# Récupérer les données depuis le lien\n",
    "response_1 = requests.get(url_1)\n",
    "data_1 = response_1.json()\n",
    "response_2 = requests.get(url_2)\n",
    "data_2 = response_2.json()"
   ]
  },
  {
   "cell_type": "code",
   "execution_count": 53,
   "id": "41459a4f-d91b-4e1c-8f69-963711d3de28",
   "metadata": {},
   "outputs": [],
   "source": [
    "# Convertir la liste de données en DataFrame\n",
    "df_1 = pd.DataFrame(data_1[\"data\"])\n",
    "df_2 = pd.DataFrame(data_2[\"data\"])"
   ]
  },
  {
   "cell_type": "code",
   "execution_count": 54,
   "id": "fac85fbb-14ac-4fac-a3a9-2f5d164b1988",
   "metadata": {},
   "outputs": [],
   "source": [
    "df_1['timestamp'] = pd.to_datetime(df_1['timestamp'])\n",
    "df_2['timestamp'] = pd.to_datetime(df_2['timestamp'])"
   ]
  },
  {
   "cell_type": "code",
   "execution_count": 55,
   "id": "d13a84dd-d41a-4a1b-8aac-c06cd3087087",
   "metadata": {},
   "outputs": [],
   "source": [
    "df_1['date_1'] = df_1['timestamp'].dt.date\n",
    "df_2['date_2'] = df_2['timestamp'].dt.date"
   ]
  },
  {
   "cell_type": "code",
   "execution_count": 56,
   "id": "3dcde961-5164-4d9b-a3e5-bd3de916d1dc",
   "metadata": {},
   "outputs": [],
   "source": [
    "daily_means_1 = df_1.groupby('date_1').agg({'CO': 'mean', 'PM2.5': 'mean'}).reset_index()\n",
    "daily_means_2 = df_2.groupby('date_2').agg({'CO': 'mean', 'PM2.5': 'mean'}).reset_index()"
   ]
  },
  {
   "cell_type": "code",
   "execution_count": 57,
   "id": "2cbeff40-1d36-46c9-ab7b-49ad46507713",
   "metadata": {},
   "outputs": [],
   "source": [
    "daily_means_1['date_1'] = pd.to_datetime(daily_means_1['date_1'])\n",
    "daily_means_2['date_2'] = pd.to_datetime(daily_means_2['date_2'])\n"
   ]
  },
  {
   "cell_type": "code",
   "execution_count": 58,
   "id": "de01ada8-3444-4657-9a7f-76174317b482",
   "metadata": {},
   "outputs": [
    {
     "name": "stdout",
     "output_type": "stream",
     "text": [
      "        date_1        CO      PM2.5\n",
      "0   2023-09-10  0.056827  12.906667\n",
      "1   2023-09-11  0.034917  11.078584\n",
      "2   2023-09-12  0.227283  12.922088\n",
      "3   2023-09-13  0.209933  14.277363\n",
      "4   2023-09-14  0.150275  14.533692\n",
      "..         ...       ...        ...\n",
      "343 2024-09-05  0.139701  13.180421\n",
      "344 2024-09-06  0.118769  14.648611\n",
      "345 2024-09-07  0.107480  14.217473\n",
      "346 2024-09-08  0.128420  12.615905\n",
      "347 2024-09-09  0.199441  15.024671\n",
      "\n",
      "[348 rows x 3 columns]\n",
      "        date_2        CO     PM2.5\n",
      "0   2023-09-10  0.000000  4.513333\n",
      "1   2023-09-11  0.000000  3.541353\n",
      "2   2023-09-12  0.000000  3.890143\n",
      "3   2023-09-13  0.002679  5.342250\n",
      "4   2023-09-14  0.000000  5.709946\n",
      "..         ...       ...       ...\n",
      "355 2024-09-05  0.000000  6.137948\n",
      "356 2024-09-06  0.000000  7.079704\n",
      "357 2024-09-07  0.000000  7.309319\n",
      "358 2024-09-08  0.000000  6.057841\n",
      "359 2024-09-09  0.000000  6.501135\n",
      "\n",
      "[360 rows x 3 columns]\n"
     ]
    }
   ],
   "source": [
    "# Afficher les résultats\n",
    "print(daily_means_1)\n",
    "print(daily_means_2)"
   ]
  },
  {
   "cell_type": "code",
   "execution_count": 59,
   "id": "b79c67b4-ac84-4d14-94cc-5a23e51366b4",
   "metadata": {},
   "outputs": [],
   "source": [
    "# Connexion à MongoDB\n",
    "client = MongoClient('mongodb://localhost:27017/')  # Remplacez par l'URI de votre MongoDB\n",
    "db_1 = client['air_quality_db']\n",
    "collection_1 = db_1['daily_averages_stationId_283181971']\n",
    "db_2 = client['air_quality_db']\n",
    "collection_2 = db_2['daily_averages_stationId_283164601']"
   ]
  },
  {
   "cell_type": "code",
   "execution_count": 60,
   "id": "cfad2cd1-7f71-4267-8e6a-8387e581634f",
   "metadata": {},
   "outputs": [
    {
     "name": "stdout",
     "output_type": "stream",
     "text": [
      "Données insérées sans doublons.\n"
     ]
    }
   ],
   "source": [
    "# Convertir le DataFrame en dictionnaire et insérer les données dans MongoDB\n",
    "records_1 = daily_means_1.to_dict('records')\n",
    "collection_1.insert_many(records_1)\n",
    "\n",
    "records_2 = daily_means_2.to_dict('records')\n",
    "collection_2.insert_many(records_2)\n",
    "print(\"Données insérées sans doublons.\")"
   ]
  }
 ],
 "metadata": {
  "kernelspec": {
   "display_name": "Python 3 (ipykernel)",
   "language": "python",
   "name": "python3"
  },
  "language_info": {
   "codemirror_mode": {
    "name": "ipython",
    "version": 3
   },
   "file_extension": ".py",
   "mimetype": "text/x-python",
   "name": "python",
   "nbconvert_exporter": "python",
   "pygments_lexer": "ipython3",
   "version": "3.10.14"
  }
 },
 "nbformat": 4,
 "nbformat_minor": 5
}
