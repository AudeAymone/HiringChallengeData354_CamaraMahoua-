{
 "cells": [
  {
   "cell_type": "code",
   "execution_count": null,
   "id": "93cb89e8-9d71-4c6e-8e27-982db28c23c5",
   "metadata": {},
   "outputs": [],
   "source": [
    "#Installation de bibliothèques\n",
    "pip install pandas\n",
    "pip install pymongo"
   ]
  },
  {
   "cell_type": "code",
   "execution_count": null,
   "id": "36f9f6a6-247a-4de5-9855-458248a564d9",
   "metadata": {},
   "outputs": [],
   "source": [
    "#Importation de bibliothèques\n",
    "import pandas as pd\n",
    "import requests\n",
    "from pymongo import MongoClient\n",
    "from datetime import datetime"
   ]
  },
  {
   "cell_type": "code",
   "execution_count": null,
   "id": "f72b61ed-3da5-43e6-8968-93189cfc5aca",
   "metadata": {},
   "outputs": [],
   "source": [
    "# URL des données\n",
    "url_1 = 'https://airqino-api.magentalab.it/v3/getStationHourlyAvg/283181971'  # Remplacez par le lien réel\n",
    "url_2 = 'https://airqino-api.magentalab.it/v3/getStationHourlyAvg/283164601'  # Remplacez par le lien réel"
   ]
  },
  {
   "cell_type": "code",
   "execution_count": null,
   "id": "5514abeb-0bbf-46c3-9f07-c53042aa30e4",
   "metadata": {},
   "outputs": [],
   "source": [
    "# Récupérer les données depuis les liens\n",
    "response_1 = requests.get(url_1)\n",
    "data_1 = response.json()\n",
    "response_2 = requests.get(url_2)\n",
    "data_2 = response.json()"
   ]
  },
  {
   "cell_type": "code",
   "execution_count": null,
   "id": "41459a4f-d91b-4e1c-8f69-963711d3de28",
   "metadata": {},
   "outputs": [],
   "source": [
    "# Convertir la liste de données en DataFrame\n",
    "df_1 = pd.DataFrame(data_1[\"data\"])\n",
    "df_2 = pd.DataFrame(data_2[\"data\"])"
   ]
  },
  {
   "cell_type": "code",
   "execution_count": null,
   "id": "fac85fbb-14ac-4fac-a3a9-2f5d164b1988",
   "metadata": {},
   "outputs": [],
   "source": [
    "# Convertir la colonne timestamp en datetime\n",
    "df_1['timestamp'] = pd.to_datetime(df_1['timestamp'])\n",
    "df_2['timestamp'] = pd.to_datetime(df_2['timestamp'])"
   ]
  },
  {
   "cell_type": "code",
   "execution_count": null,
   "id": "d13a84dd-d41a-4a1b-8aac-c06cd3087087",
   "metadata": {},
   "outputs": [],
   "source": [
    "# Extraire la date uniquement\n",
    "df_1['date_1'] = df_1['timestamp'].dt.date\n",
    "df_2['date_2'] = df_2['timestamp'].dt.date"
   ]
  },
  {
   "cell_type": "code",
   "execution_count": null,
   "id": "3dcde961-5164-4d9b-a3e5-bd3de916d1dc",
   "metadata": {},
   "outputs": [],
   "source": [
    "# Calculer la moyenne par jour\n",
    "daily_means_1 = df_1.groupby('date_1').agg({'CO': 'mean', 'PM2.5': 'mean'}).reset_index()\n",
    "daily_means_2 = df_2.groupby('date_2').agg({'CO': 'mean', 'PM2.5': 'mean'}).reset_index()"
   ]
  },
  {
   "cell_type": "code",
   "execution_count": null,
   "id": "2cbeff40-1d36-46c9-ab7b-49ad46507713",
   "metadata": {},
   "outputs": [],
   "source": [
    "# Conversion des colonnes 'date_1' et 'date_2' en type datetime\n",
    "daily_means_1['date_1'] = pd.to_datetime(daily_means_1['date_1'])\n",
    "daily_means_2['date_2'] = pd.to_datetime(daily_means_2['date_2'])"
   ]
  },
  {
   "cell_type": "code",
   "execution_count": null,
   "id": "de01ada8-3444-4657-9a7f-76174317b482",
   "metadata": {},
   "outputs": [],
   "source": [
    "# Afficher les résultats\n",
    "print(daily_means_1)\n",
    "print(daily_means_2)"
   ]
  },
  {
   "cell_type": "code",
   "execution_count": null,
   "id": "b79c67b4-ac84-4d14-94cc-5a23e51366b4",
   "metadata": {},
   "outputs": [],
   "source": [
    "# Connexion à MongoDB\n",
    "client = MongoClient('mongodb://localhost:27017/')  # Remplacez par l'URI de votre MongoDB\n",
    "db_1 = client['air_quality_db']\n",
    "collection_1 = db_1['daily_averages_1']\n",
    "db_2 = client['air_quality_db']\n",
    "collection_2 = db_2['daily_averages_2']"
   ]
  },
  {
   "cell_type": "code",
   "execution_count": null,
   "id": "cfad2cd1-7f71-4267-8e6a-8387e581634f",
   "metadata": {},
   "outputs": [],
   "source": [
    "# Convertir les DataFrames en dictionnaire et insérer les données dans MongoDB\n",
    "records_1 = daily_means_1.to_dict('records')\n",
    "collection_1.insert_many(records_1)\n",
    "records_2 = daily_means_2.to_dict('records')\n",
    "collection_2.insert_many(records_2)"
   ]
  }
 ],
 "metadata": {
  "kernelspec": {
   "display_name": "Python 3 (ipykernel)",
   "language": "python",
   "name": "python3"
  },
  "language_info": {
   "codemirror_mode": {
    "name": "ipython",
    "version": 3
   },
   "file_extension": ".py",
   "mimetype": "text/x-python",
   "name": "python",
   "nbconvert_exporter": "python",
   "pygments_lexer": "ipython3",
   "version": "3.10.14"
  }
 },
 "nbformat": 4,
 "nbformat_minor": 5
}
